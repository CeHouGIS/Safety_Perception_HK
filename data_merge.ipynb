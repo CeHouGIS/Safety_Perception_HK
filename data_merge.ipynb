{
 "cells": [
  {
   "cell_type": "code",
   "execution_count": 1,
   "metadata": {},
   "outputs": [],
   "source": [
    "import pickle\n",
    "import os\n",
    "import pandas as pd\n",
    "from glob import glob"
   ]
  },
  {
   "cell_type": "code",
   "execution_count": 2,
   "metadata": {},
   "outputs": [],
   "source": [
    "# # 删除问题行\n",
    "# metadata_path = \"/data_nas/GoogleSV/metadata/China/HongKong/pano_2024-08-17 13:11:09.125553_23512.p\"\n",
    "# metadata = pd.read_pickle(metadata_path)\n",
    "# error_line = metadata[metadata['panoid'] == \"AF1QipOEQeUmG17kqli1N84XJmoOdliKcXrxp64sheE6\"]\n",
    "# metadata = metadata.drop(error_line.index).reset_index(drop=True)\n",
    "# metadata.to_pickle(metadata_path)"
   ]
  },
  {
   "cell_type": "code",
   "execution_count": 3,
   "metadata": {},
   "outputs": [],
   "source": [
    "dataset_path = \"/data1/cehou_data/LLM_safety/img_text_data\"\n",
    "dataset = os.listdir(dataset_path)"
   ]
  },
  {
   "cell_type": "code",
   "execution_count": 4,
   "metadata": {},
   "outputs": [
    {
     "data": {
      "text/plain": [
       "['/data1/cehou_data/LLM_safety/img_text_data/dataset_baseline_baseline_baseline_baseline_1400.pkl',\n",
       " '/data1/cehou_data/LLM_safety/img_text_data/dataset_baseline_baseline_baseline_baseline_501.pkl']"
      ]
     },
     "execution_count": 4,
     "metadata": {},
     "output_type": "execute_result"
    }
   ],
   "source": [
    "glob(f'{dataset_path}/dataset_baseline_*')"
   ]
  },
  {
   "cell_type": "code",
   "execution_count": 5,
   "metadata": {},
   "outputs": [
    {
     "name": "stdout",
     "output_type": "stream",
     "text": [
      "900\n",
      "501\n"
     ]
    }
   ],
   "source": [
    "for i,file in enumerate(glob(f'{dataset_path}/dataset_baseline_*')):\n",
    "    with open(file, \"rb\") as f:\n",
    "        data = pickle.load(f)\n",
    "        print(len(data))\n",
    "        if i == 0:\n",
    "            all_data = data\n",
    "        else:\n",
    "            all_data.extend(data)\n"
   ]
  },
  {
   "cell_type": "code",
   "execution_count": 6,
   "metadata": {},
   "outputs": [
    {
     "data": {
      "text/plain": [
       "1401"
      ]
     },
     "execution_count": 6,
     "metadata": {},
     "output_type": "execute_result"
    }
   ],
   "source": [
    "len(all_data)"
   ]
  },
  {
   "cell_type": "code",
   "execution_count": 7,
   "metadata": {},
   "outputs": [
    {
     "data": {
      "text/plain": [
       "{'GSV_idx': 714,\n",
       " 'GSV_name': '50f42b88fdc9f065f0001506',\n",
       " 'GSV_path': '/data_nas/cehou/LLM_safety/PlacePulse2.0/photo_dataset/final_photo_dataset/50f42b88fdc9f065f0001506.jpg',\n",
       " 'text_description': \"[INST] Please design a street safety perception system rating scale and list in as much detail as possible the different information that people pay attention to in street perception by looking around the built environment (elements of the urban environment that Street View images can capture). Note that we cannot provide subjective information about residents' personal experiences, so look for key points from the objective environment, please answer this question within 300 words. [/INST] A street safety perception rating scale could be designed to evaluate the safety of a street based on objective observations of the built environment. Here are some key elements that people might pay attention to when assessing street safety:\\n\\n1. Traffic calming measures: The presence of speed bumps, speed limits, and traffic signs can all impact the perceived safety of a street.\\n2. Pedestrian infrastructure: The availability of sidewalks, crosswalks, and pedestrian signals can all influence how safe people feel when walking on a street.\\n3. Lighting: Adequate street lighting can make a street feel safer, especially during nighttime hours.\\n4. Road conditions: The condition of the road surface, including the presence of potholes or debris, can impact the perceived safety of a street.\\n5. Traffic volume: The amount of traffic on a street can also impact the perceived safety of a street, with higher volumes of traffic generally leading to a lower sense of safety.\\n6. Visibility: The visibility of street signs, traffic signals, and other important information can impact the perceived safety of a street.\\n7. Land use: The mix of land uses along a street, including residential, commercial, and industrial, can impact the perceived safety of a street.\\n8. Street design: The design of a street, including the placement of parked cars, the width of the road, and the presence of medians or other dividers, can impact the perceived safety of a street.\\n9. Signage: The presence of clear and visible signs, including traffic signs, pedestrian signs, and parking signs, can impact the perceived safety of a street.\\n10. Maintenance: The overall maintenance of a street, including the condition of the road surface, the presence of litter, and the upkeep of street furniture, can impact the perceived safety of a street.\\n\\nBy evaluating these key elements, a street safety perception rating scale could provide a comprehensive assessment of the safety of a street based on objective observations of the built environment. <\\\\s> [INST]  \\nBased on your answers, evaluate the safety perception brought to you by the street scenes in the panoramic street view image one by one. Please answer this question within 300 words. [/INST] The street scene in the panoramic street view image appears to be relatively safe. Here are some observations based on the key elements listed in the previous answer:\\n\\n1. Traffic calming measures: There are no visible speed bumps or other traffic calming measures in the image. However, the presence of a speed limit sign suggests that there is a speed limit in place, which can help to reduce the risk of accidents.\\n2. Pedestrian infrastructure: The image shows a sidewalk on one side of the street, which provides a safe space for pedestrians to walk. There are no visible crosswalks or pedestrian signals, but the presence of a sidewalk suggests that pedestrians have some level of safety when walking on this street.\\n3. Lighting: The image shows that the street is well-lit, which can help to improve visibility and reduce the risk of accidents.\\n4. Road conditions: The road surface appears to be in good condition, with no visible potholes or debris.\\n5. Traffic volume: The image shows that there is very little traffic on this street, which can help to improve the perceived safety of the street.\\n6. Visibility: The image shows that there are clear and visible signs, including a speed limit sign, which can help to improve visibility and reduce the risk of accidents.\\n7. Land use: The image shows a mix of land uses, including residential and commercial properties, which can contribute to a sense of safety and livability in the area.\\n8. Street design: The image shows that the street is designed with pedestrians in mind, as evidenced by the presence of a sidewalk.\\n9. Signage: The image shows that there are clear and visible signs, including a speed limit sign, which can help to improve visibility and reduce the risk of accidents.\\n10. Maintenance: The image shows that the street is well-maintained, with no visible litter or other signs of neglect.\\n\\nOverall, the street scene in the panoramic street view image appears to be relatively safe, with a well-maintained road surface, clear signage, and a good mix of land uses. The presence of a sidewalk and low traffic volume also contribute to a sense of safety for pedestrians. \",\n",
       " 'age': 'baseline',\n",
       " 'gender': 'baseline',\n",
       " 'location': 'baseline',\n",
       " 'event': 'baseline'}"
      ]
     },
     "execution_count": 7,
     "metadata": {},
     "output_type": "execute_result"
    }
   ],
   "source": [
    "all_data[213]"
   ]
  },
  {
   "cell_type": "code",
   "execution_count": 8,
   "metadata": {},
   "outputs": [
    {
     "name": "stdout",
     "output_type": "stream",
     "text": [
      "save the data into /data1/cehou_data/LLM_safety/img_text_data/dataset_baseline_baseline_baseline_baseline_1401.pkl\n"
     ]
    }
   ],
   "source": [
    "data_config = dataset[0].split(\"_\")\n",
    "save_filename = f\"/data1/cehou_data/LLM_safety/img_text_data/dataset_{data_config[1]}_{data_config[2]}_{data_config[3]}_{data_config[4]}_{len(all_data)}.pkl\"\n",
    "with open(save_filename, \"wb\") as f:\n",
    "    pickle.dump(all_data, f)\n",
    "print(f\"save the data into {save_filename}\")"
   ]
  }
 ],
 "metadata": {
  "kernelspec": {
   "display_name": "Python 3",
   "language": "python",
   "name": "python3"
  },
  "language_info": {
   "codemirror_mode": {
    "name": "ipython",
    "version": 3
   },
   "file_extension": ".py",
   "mimetype": "text/x-python",
   "name": "python",
   "nbconvert_exporter": "python",
   "pygments_lexer": "ipython3",
   "version": "3.8.10"
  }
 },
 "nbformat": 4,
 "nbformat_minor": 2
}
