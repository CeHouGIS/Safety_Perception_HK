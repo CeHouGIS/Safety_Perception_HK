{
 "cells": [
  {
   "cell_type": "code",
   "execution_count": 16,
   "metadata": {},
   "outputs": [],
   "source": [
    "import pickle\n",
    "import os\n",
    "import pandas as pd\n",
    "from glob import glob"
   ]
  },
  {
   "cell_type": "code",
   "execution_count": 18,
   "metadata": {},
   "outputs": [],
   "source": [
    "# # 删除问题行\n",
    "# metadata_path = \"/data_nas/GoogleSV/metadata/China/HongKong/pano_2024-08-17 13:11:09.125553_23512.p\"\n",
    "# metadata = pd.read_pickle(metadata_path)\n",
    "# error_line = metadata[metadata['panoid'] == \"AF1QipNot5b97DiHOQQDAASe-iSdgapfQ3nJIcZY_QpL\"]\n",
    "# metadata = metadata.drop(error_line.index).reset_index(drop=True)\n",
    "# metadata.to_pickle(metadata_path)"
   ]
  },
  {
   "cell_type": "code",
   "execution_count": 8,
   "metadata": {},
   "outputs": [],
   "source": [
    "dataset_path = \"/data_nas/cehou/LLM_safety\"\n",
    "dataset = os.listdir(dataset_path)"
   ]
  },
  {
   "cell_type": "code",
   "execution_count": 9,
   "metadata": {},
   "outputs": [
    {
     "data": {
      "text/plain": [
       "['/data_nas/cehou/LLM_safety/dataset_30_male_HongKong_murder_560.pkl']"
      ]
     },
     "execution_count": 9,
     "metadata": {},
     "output_type": "execute_result"
    }
   ],
   "source": [
    "glob(f'{dataset_path}/dataset_30_male_HongKong_murder_*')"
   ]
  },
  {
   "cell_type": "code",
   "execution_count": 10,
   "metadata": {},
   "outputs": [
    {
     "name": "stdout",
     "output_type": "stream",
     "text": [
      "560\n"
     ]
    }
   ],
   "source": [
    "for i,file in enumerate(glob(f'{dataset_path}/dataset_30_male_HongKong_murder_*')):\n",
    "    with open(file, \"rb\") as f:\n",
    "        data = pickle.load(f)\n",
    "        print(len(data))\n",
    "        if i == 0:\n",
    "            all_data = data\n",
    "        else:\n",
    "            all_data.extend(data)\n"
   ]
  },
  {
   "cell_type": "code",
   "execution_count": 11,
   "metadata": {},
   "outputs": [
    {
     "data": {
      "text/plain": [
       "{'GSV_idx': 445495,\n",
       " 'GSV_name': '27K5yO2L2dNA95G-dc0_eQ',\n",
       " 'GSV_path': ['/data_nas/GoogleSV/images/China/HongKong/2/7/27K5yO2L2dNA95G-dc0_eQ_0.jpg',\n",
       "  '/data_nas/GoogleSV/images/China/HongKong/2/7/27K5yO2L2dNA95G-dc0_eQ_90.jpg',\n",
       "  '/data_nas/GoogleSV/images/China/HongKong/2/7/27K5yO2L2dNA95G-dc0_eQ_180.jpg',\n",
       "  '/data_nas/GoogleSV/images/China/HongKong/2/7/27K5yO2L2dNA95G-dc0_eQ_270.jpg'],\n",
       " 'text_description': '[INST] Please design a murder-focused street safety perception system rating scale and list in as much detail as possible the different information that people pay attention to in street perception by looking around the built environment (elements of the urban environment that Street View images can capture). Note that we cannot provide subjective information about residents\\' personal experiences, so look for key points from the objective environment, please answer this question within 500 words. [/INST] A murder-focused street safety perception system rating scale could be designed to evaluate the level of perceived safety in a given area based on the presence of certain elements in the built environment. Here is a possible rating scale:\\n\\n1. Lighting: Inadequate lighting can make a street feel unsafe, as it can make it difficult for people to see potential threats and can also make it harder for residents to identify suspicious activity.\\n2. Visibility: Obstructed views, such as overgrown vegetation or parked vehicles, can make it difficult for people to see what is happening on a street, which can contribute to a sense of insecurity.\\n3. Pedestrian activity: Areas with high levels of pedestrian activity may be perceived as safer, as people are more likely to notice and report suspicious activity.\\n4. Surveillance: The presence of security cameras or other surveillance systems can make people feel safer, as they know that their activities are being monitored.\\n5. Signage: Clear and visible signs, such as \"no trespassing\" or \"private property\" signs, can help to deter potential criminals.\\n6. Fencing and gates: Physical barriers, such as fences and gates, can help to prevent unauthorized access to a property or area.\\n7. Street design: The layout of a street, including the placement of sidewalks, crosswalks, and streetlights, can affect people\\'s perception of safety.\\n8. Graffiti and vandalism: The presence of graffiti or vandalism can make a street feel unsafe, as it can be seen as a sign of disorder and neglect.\\n9. Presence of law enforcement: The presence of law enforcement officers or vehicles can make people feel safer, as they know that help is available in case of an emergency.\\n10. Community engagement: Areas with high levels of community engagement, such as neighborhood watch programs or community events, may be perceived as safer, as residents are more likely to look out for one another and report suspicious activity.\\n\\nIn addition to these factors, there may be other elements of the built environment that people pay attention to when evaluating the perceived safety of a street. For example, the condition of buildings and infrastructure, the presence of trees or other natural features, and the overall cleanliness of the area can all affect people\\'s perceptions of safety. <\\\\s> [INST]        \\nBased on your answers, evaluate the safety perception brought to you by the street scenes in the panoramic street view image one by one. Please answer this question within 500 words. [/INST] The panoramic street view image shows a city street with a variety of elements that can affect people\\'s perception of safety. Here is an evaluation of the safety perception brought to us by each of these elements:\\n\\n1. Lighting: The street appears to be well-lit, with streetlights visible along the road. This can make people feel safer, as it can make it easier for them to see potential threats and can also make it harder for criminals to operate in the area.\\n2. Visibility: The street is lined with trees and other vegetation, which can partially obscure the view of the road. This can make it more difficult for people to see what is happening on the street, which can contribute to a sense of insecurity.\\n3. Pedestrian activity: There are no people visible in the image, which can make the street feel less lively and less safe. People are more likely to notice and report suspicious activity when there are other people around.\\n4. Surveillance: There are no visible surveillance cameras or other monitoring devices in the image. The absence of these devices can make people feel less safe, as they know that their activities are not being monitored.\\n5. Signage: There are no visible signs in the image, which can make it difficult for people to understand the rules and regulations of the area. This can contribute to a sense of confusion and insecurity.\\n6. Fencing and gates: There are no visible fences or gates in the image, which can make it easier for people to access the area and can also make it harder to control access to private property.\\n7. Street design: The street appears to be well-designed, with clear markings and a well-maintained road surface. This can make people feel safer, as it can make it easier for them to navigate the area and can also make it harder for criminals to operate in the area.\\n8. Graffiti and vandalism: There is no visible graffiti or vandalism in the image, which can make the street feel safer and more orderly.\\n9. Presence of law enforcement: There are no visible law enforcement officers or vehicles in the image, which can make people feel less safe, as they know that help is not immediately available in case of an emergency.\\n10. Community engagement: There are no visible signs of community engagement in the image, such as neighborhood watch programs or community events.<\\\\s> [INST]       \\nWhen evaluating the safety perception of specific criminal behaviors, it is important to consider the sensitivity of different demographic groups to their environment. For male, which parts of the image would you emphasize? Please answer this question within 500 words. [/INST] When evaluating the safety perception of specific criminal behaviors, it is important to consider the sensitivity of different demographic groups to their environment. For example, male individuals may be more sensitive to certain elements of the built environment than others. Here are some elements of the panoramic street view image that may be particularly important for male individuals to consider when evaluating the safety perception of the area:\\n\\n1. Lighting: Male individuals may be more sensitive to inadequate lighting, as they may feel more vulnerable in low-light conditions. They may be more likely to notice and report suspicious activity in well-lit areas.\\n2. Visibility: Male individuals may be more sensitive to obstructed views, as they may feel more vulnerable when they cannot see what is happening around them. They may be more likely to notice and report suspicious activity in areas with clear lines of sight.\\n3. Pedestrian activity: Male individuals may be more sensitive to the level of pedestrian activity in an area, as they may feel more secure when there are other people around. They may be more likely to notice and report suspicious activity in areas with high levels of foot traffic.\\n4. Surveillance: Male individuals may be more sensitive to the presence of surveillance cameras or other monitoring devices, as they may feel more secure when their activities are being monitored. They may be more likely to notice and report suspicious activity in areas with visible surveillance systems.\\n5. Signage: Male individuals may be more sensitive to the presence of clear and visible signs, as they may be more likely to notice and follow the rules and regulations of an area. They may be more likely to notice and report suspicious activity in areas with well-marked streets and sidewalks.\\n6. Fencing and gates: Male individuals may be more sensitive to the presence of physical barriers, such as fences and gates, as they may feel more secure when they know that access to a property or area is controlled. They may be more likely to notice and report suspicious activity in areas with visible fencing or gates.\\n7. Street design: Male individuals may be more sensitive to the layout of a street, as they may feel more secure when they know how to navigate an area. They may be more likely to notice and report suspicious activity in areas with clear markings and well-maintained road surfaces.\\n8. Graffiti and vandalism: Male individuals may be more sensitive to the presence of graffiti or vandalism,<\\\\s> [INST]      \\nFor individuals around the age of 30, what factors in the image do you think would impact their sense of safety? Please answer this question within 500 words. [/INST] For individuals around the age of 30, a variety of factors in the panoramic street view image could impact their sense of safety. Here are some of the key factors that may be particularly important for this demographic group to consider:\\n\\n1. Lighting: Adequate lighting is important for people of all ages, but it may be particularly important for individuals around the age of 30, who may be more active at night and may be more likely to use public transportation or walk to their destinations.\\n2. Visibility: Obstructed views can make it difficult for people to see what is happening on a street, which can contribute to a sense of insecurity. This may be particularly important for individuals around the age of 30, who may be more likely to notice and report suspicious activity in areas with clear lines of sight.\\n3. Pedestrian activity: Areas with high levels of pedestrian activity may be perceived as safer, as people are more likely to notice and report suspicious activity. This may be particularly important for individuals around the age of 30, who may be more likely to use public transportation or walk to their destinations and may be more likely to notice and report suspicious activity in areas with high levels of foot traffic.\\n4. Surveillance: The presence of security cameras or other surveillance systems can make people feel safer, as they know that their activities are being monitored. This may be particularly important for individuals around the age of 30, who may be more likely to use public transportation or walk to their destinations and may be more likely to notice and report suspicious activity in areas with visible surveillance systems.\\n5. Signage: Clear and visible signs, such as \"no trespassing\" or \"private property\" signs, can help to deter potential criminals. This may be particularly important for individuals around the age of 30, who may be more likely to notice and report suspicious activity in areas with well-marked streets and sidewalks.\\n6. Fencing and gates: Physical barriers, such as fences and gates, can help to prevent unauthorized access to a property or area. This may be particularly important for individuals around the age of 30, who may be more likely to notice and report suspicious activity in areas with visible fencing or gates.\\n7. Street design: The layout of a street, including the placement of sidewalks, crosswalks, and streetlights, can affect people\\'<\\\\s> [INST]     \\nWhen discussing the safety perception in HongKong, what is the characteristics of the built environment, and how these characteristics will influence people\\'s safety perception? Please answer this question within 500 words. [/INST] Hong Kong is a densely populated urban environment with a unique built environment that can influence people\\'s safety perception in a number of ways. Here are some of the key characteristics of the built environment in Hong Kong and how they may affect people\\'s safety perception:\\n\\n1. High-rise buildings: Hong Kong is known for its high-rise buildings, which can make it difficult for people to see what is happening on the streets below. This can contribute to a sense of insecurity, as people may feel more vulnerable in high-rise buildings.\\n2. Narrow streets: Many streets in Hong Kong are narrow and crowded, which can make it difficult for people to move around and can also make it harder for law enforcement officers to respond to emergencies. This can contribute to a sense of insecurity, as people may feel more vulnerable in crowded and congested areas.\\n3. High population density: Hong Kong has a high population density, which can make it difficult for people to find privacy and personal space. This can contribute to a sense of insecurity, as people may feel more vulnerable in crowded and congested areas.\\n4. High levels of pedestrian activity: Hong Kong is a busy and bustling city, with high levels of pedestrian activity. This can make people feel safer, as they are more likely to notice and report suspicious activity in areas with high levels of foot traffic.\\n5. Well-maintained infrastructure: Hong Kong has a well-developed infrastructure, with modern and efficient public transportation systems and well-maintained roads and sidewalks. This can make people feel safer, as they know that the city is well-equipped to handle emergencies and other challenges.\\n6. High levels of community engagement: Hong Kong has a strong sense of community, with many neighborhood organizations and other groups working to improve safety and security in the city. This can make people feel safer, as they know that their neighbors are looking out for them and are working to make the city a safer place to live.\\n\\nOverall, the built environment in Hong Kong can have a significant impact on people\\'s safety perception. While there are some challenges and potential risks in the city, the high levels of pedestrian activity, well-maintained infrastructure, and strong sense of community can help to make people feel safer and more secure. <\\\\s> [INST]    \\nIn assessing safety perception regarding murder, what do you believe are the important part of the image? Please answer this question within 500 words. [/INST] When assessing safety perception regarding murder, there are several important elements of the built environment that should be considered. These elements can provide clues about the level of safety and security in a given area and can help to identify potential risks and hazards. Here are some of the key elements that should be considered when evaluating the safety perception of a street in relation to murder:\\n\\n1. Lighting: Inadequate lighting can make a street feel unsafe, as it can make it difficult for people to see potential threats and can also make it harder for residents to identify suspicious activity.\\n2. Visibility: Obstructed views, such as overgrown vegetation or parked vehicles, can make it difficult for people to see what is happening on a street, which can contribute to a sense of insecurity.\\n3. Pedestrian activity: Areas with high levels of pedestrian activity may be perceived as safer, as people are more likely to notice and report suspicious activity.\\n4. Surveillance: The presence of security cameras or other surveillance systems can make people feel safer, as they know that their activities are being monitored.\\n5. Signage: Clear and visible signs, such as \"no trespassing\" or \"private property\" signs, can help to deter potential criminals.\\n6. Fencing and gates: Physical barriers, such as fences and gates, can help to prevent unauthorized access to a property or area.\\n7. Street design: The layout of a street, including the placement of sidewalks, crosswalks, and streetlights, can affect people\\'s perception of safety.\\n8. Graffiti and vandalism: The presence of graffiti or vandalism can make a street feel unsafe, as it can be seen as a sign of disorder and neglect.\\n9. Presence of law enforcement: The presence of law enforcement officers or vehicles can make people feel safer, as they know that help is available in case of an emergency.\\n10. Community engagement: Areas with high levels of community engagement, such as neighborhood watch programs or community events, may be perceived as safer, as residents are more likely to look out for one another and report suspicious activity.\\n\\nOverall, these elements can provide valuable information about the safety perception of a street in relation to murder. By considering these factors, it is possible to identify potential risks and hazards and to take steps to improve safety and security in the area. <\\\\s> [INST]   \\nBased on your answers, evaluate the safety perception brought to you by the street scenes in the panoramic street view image one by one. Please answer this question within 500 words. [/INST] The panoramic street view image shows a city street with a variety of elements that can affect people\\'s perception of safety in relation to murder. Here is an evaluation of the safety perception brought to us by each of these elements:\\n\\n1. Lighting: The street appears to be well-lit, with streetlights visible along the road. This can make people feel safer, as it can make it easier for them to see potential threats and can also make it harder for criminals to operate in the area.\\n2. Visibility: The street is lined with trees and other vegetation, which can partially obscure the view of the road. This can make it more difficult for people to see what is happening on the street, which can contribute to a sense of insecurity.\\n3. Pedestrian activity: There are no people visible in the image, which can make the street feel less lively and less safe. People are more likely to notice and report suspicious activity when there are other people around.\\n4. Surveillance: There are no visible surveillance cameras or other monitoring devices in the image. The absence of these devices can make people feel less safe, as they know that their activities are not being monitored.\\n5. Signage: There are no visible signs in the image, which can make it difficult for people to understand the rules and regulations of the area. This can contribute to a sense of confusion and insecurity.\\n6. Fencing and gates: There are no visible fences or gates in the image, which can make it easier for people to access the area and can also make it harder to control access to private property.\\n7. Street design: The street appears to be well-designed, with clear markings and a well-maintained road surface. This can make people feel safer, as it can make it easier for them to navigate the area and can also make it harder for criminals to operate in the area.\\n8. Graffiti and vandalism: There is no visible graffiti or vandalism in the image, which can make the street feel safer and more orderly.\\n9. Presence of law enforcement: There are no visible law enforcement officers or vehicles in the image, which can make people feel less safe, as they know that help is not immediately available in case of an emergency.\\n10. Community engagement: There are no visible signs of community engagement in the image, such as neighborhood watch programs<\\\\s> [INST]  \\nTaking into account all the above points, what is your overall view of the safety perception in this location? Please answer this question within 500 words. [/INST] Based on the elements present in the panoramic street view image, the overall safety perception of this location appears to be relatively positive. The street is well-lit, with streetlights visible along the road, which can make people feel safer and more secure. The street is also well-designed, with clear markings and a well-maintained road surface, which can make it easier for people to navigate the area and can also make it harder for criminals to operate in the area.\\n\\nHowever, there are also some potential concerns that could impact the safety perception of this location. The street is lined with trees and other vegetation, which can partially obscure the view of the road and make it more difficult for people to see what is happening on the street. This can contribute to a sense of insecurity, as people may feel more vulnerable when they cannot see potential threats.\\n\\nAdditionally, there are no visible surveillance cameras or other monitoring devices in the image, which can make people feel less safe, as they know that their activities are not being monitored. The absence of these devices can make it harder for law enforcement officers to respond to emergencies and can also make it harder for residents to identify suspicious activity.\\n\\nOverall, the safety perception of this location appears to be relatively positive, but there are some potential concerns that should be addressed in order to further improve safety and security in the area. ',\n",
       " 'age': '30',\n",
       " 'gender': 'male',\n",
       " 'location': 'HongKong',\n",
       " 'event': 'murder'}"
      ]
     },
     "execution_count": 11,
     "metadata": {},
     "output_type": "execute_result"
    }
   ],
   "source": [
    "all_data[213]"
   ]
  },
  {
   "cell_type": "code",
   "execution_count": 12,
   "metadata": {},
   "outputs": [
    {
     "name": "stdout",
     "output_type": "stream",
     "text": [
      "save the data into /data_nas/cehou/LLM_safety/dataset_30_male_HongKong_murder_560.pkl\n"
     ]
    }
   ],
   "source": [
    "data_config = dataset[0].split(\"_\")\n",
    "save_filename = f\"/data_nas/cehou/LLM_safety/dataset_{data_config[1]}_{data_config[2]}_{data_config[3]}_{data_config[4]}_{len(all_data)}.pkl\"\n",
    "with open(save_filename, \"wb\") as f:\n",
    "    pickle.dump(all_data, f)\n",
    "print(f\"save the data into {save_filename}\")"
   ]
  }
 ],
 "metadata": {
  "kernelspec": {
   "display_name": "Python 3",
   "language": "python",
   "name": "python3"
  },
  "language_info": {
   "codemirror_mode": {
    "name": "ipython",
    "version": 3
   },
   "file_extension": ".py",
   "mimetype": "text/x-python",
   "name": "python",
   "nbconvert_exporter": "python",
   "pygments_lexer": "ipython3",
   "version": "3.8.10"
  }
 },
 "nbformat": 4,
 "nbformat_minor": 2
}
