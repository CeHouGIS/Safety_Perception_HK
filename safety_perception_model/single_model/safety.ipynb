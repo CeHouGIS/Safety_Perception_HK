{
 "cells": [
  {
   "cell_type": "code",
   "execution_count": 2,
   "metadata": {},
   "outputs": [],
   "source": [
    "import pandas as pd\n",
    "import os\n",
    "import warnings\n",
    "import numpy as np\n",
    "from tqdm import tqdm\n",
    "warnings.filterwarnings(\"ignore\")"
   ]
  },
  {
   "cell_type": "code",
   "execution_count": 3,
   "metadata": {},
   "outputs": [],
   "source": [
    "def cal_P_and_N(select_id, category, data):\n",
    "    data_test = data[(data['left_id'] == select_id) | (data['right_id'] == select_id)]\n",
    "\n",
    "    data_test_group = data_test.groupby('category')\n",
    "    # Check if the category exists in the grouped data\n",
    "    if category not in data_test_group.groups:\n",
    "        # raise KeyError(f\"Category '{category}' not found in the data.\")\n",
    "        return None, None, None, None\n",
    "    \n",
    "    test_group = data_test_group.get_group(category)\n",
    "\n",
    "    for i,line in test_group.iterrows():\n",
    "        if line['winner'] == 'left':\n",
    "            test_group.loc[i, \"winner_id\"] = line[\"left_id\"]\n",
    "            test_group.loc[i, \"loser_id\"] = line[\"right_id\"]\n",
    "        elif line['winner'] == 'right':\n",
    "            test_group.loc[i, \"winner_id\"] = line[\"right_id\"]\n",
    "            test_group.loc[i, \"loser_id\"] = line[\"left_id\"]\n",
    "        else:\n",
    "            test_group.loc[i, \"winner_id\"] = \"equal\"\n",
    "            test_group.loc[i, \"loser_id\"] = \"equal\"\n",
    "\n",
    "    winner_id = test_group['winner_id'].tolist()\n",
    "    loser_id = test_group['loser_id'].tolist()\n",
    "\n",
    "    p_i = len(test_group[test_group['winner_id'] == select_id]) \n",
    "    e_i = len(test_group[test_group['winner_id'] == \"equal\"]) \n",
    "    n_i = len(test_group) - p_i - e_i\n",
    "\n",
    "    P_i = p_i / (p_i + e_i + n_i)\n",
    "    N_i = n_i / (p_i + e_i + n_i)\n",
    "    return P_i, N_i, winner_id, loser_id\n"
   ]
  },
  {
   "cell_type": "code",
   "execution_count": 4,
   "metadata": {},
   "outputs": [],
   "source": [
    "def cal_Q(select_id, category, data):\n",
    "    P_i, N_i, winner_id, loser_id = cal_P_and_N(select_id, category, data)\n",
    "    if (P_i is None) or (N_i is None):\n",
    "        return None\n",
    "\n",
    "    sub_pi_list = []\n",
    "    for i in winner_id:\n",
    "        if (i != \"equal\") and (i != select_id):\n",
    "            sub_P_i, _, _, _ = cal_P_and_N(i, category, data)\n",
    "            sub_pi_list.append(sub_P_i)\n",
    "\n",
    "    sub_ni_list = []\n",
    "    for i in loser_id:\n",
    "        if (i != \"equal\") and (i != select_id):\n",
    "            _, sub_N_i, _, _ = cal_P_and_N(i, category, data)\n",
    "            sub_ni_list.append(sub_N_i)\n",
    "\n",
    "    if len(sub_pi_list) == 0:\n",
    "        sub_P_i_avg = 0\n",
    "    else:\n",
    "        sub_P_i_avg = np.mean(sub_pi_list)\n",
    "        \n",
    "    if len(sub_ni_list) == 0:\n",
    "        sub_n_i_avg = 0\n",
    "    else:\n",
    "        sub_n_i_avg = np.mean(sub_ni_list)\n",
    "    Q = (1 / 3) * (P_i + sub_P_i_avg - sub_n_i_avg + 1)\n",
    "    return Q"
   ]
  },
  {
   "cell_type": "code",
   "execution_count": 5,
   "metadata": {},
   "outputs": [],
   "source": [
    "data_path = \"/data_nas/cehou/LLM_safety/PlacePulse2.0/metadata/final_data.csv\"\n",
    "img_path = \"/data_nas/cehou/LLM_safety/PlacePulse2.0/photo_dataset/final_photo_dataset\"\n",
    "data = pd.read_csv(data_path)\n",
    "img_id_ls = [i.split('.')[0] for i in os.listdir(img_path)]\n",
    "category = data['category'].value_counts().index.tolist()"
   ]
  },
  {
   "cell_type": "code",
   "execution_count": 6,
   "metadata": {},
   "outputs": [],
   "source": [
    "# from concurrent.futures import ThreadPoolExecutor, as_completed\n",
    "\n",
    "# def calculate_Q_for_image(img_id):\n",
    "#     results = []\n",
    "#     for c in category:\n",
    "#         Q = cal_Q(img_id, c, data)\n",
    "#         results.append([img_id, c, Q])\n",
    "#     return results\n",
    "# Q_ls = []\n",
    "# with ThreadPoolExecutor(max_workers=50) as executor:\n",
    "#     futures = [executor.submit(calculate_Q_for_image, img_id) for img_id in tqdm(img_id_ls)]\n",
    "#     for future in as_completed(futures):\n",
    "#         Q_ls.extend(future.result())\n",
    "#         if len(Q_ls) % 100 == 0:\n",
    "#             Q_df = pd.DataFrame(Q_ls, columns=['Image_ID', 'Category', 'Q_Value'])\n",
    "#             Q_df.to_csv(\"/data_nas/cehou/LLM_safety/image_perception.csv\", index=False)"
   ]
  },
  {
   "cell_type": "code",
   "execution_count": 15,
   "metadata": {},
   "outputs": [],
   "source": [
    "Q_df = pd.DataFrame(Q_ls, columns=['Image_ID', 'Category', 'Q_Value'])\n",
    "Q_df.to_csv(\"/data_nas/cehou/LLM_safety/image_perception.csv\", index=False)"
   ]
  },
  {
   "cell_type": "code",
   "execution_count": 10,
   "metadata": {},
   "outputs": [
    {
     "name": "stderr",
     "output_type": "stream",
     "text": [
      "\n",
      "\u001b[A\n",
      "\u001b[A\n",
      "\u001b[A\n",
      "\u001b[A\n",
      "\u001b[A\n",
      "  0%|          | 5/110688 [00:19<118:28:04,  3.85s/it]\n"
     ]
    },
    {
     "ename": "KeyboardInterrupt",
     "evalue": "",
     "output_type": "error",
     "traceback": [
      "\u001b[0;31m---------------------------------------------------------------------------\u001b[0m",
      "\u001b[0;31mKeyboardInterrupt\u001b[0m                         Traceback (most recent call last)",
      "Cell \u001b[0;32mIn[10], line 11\u001b[0m\n\u001b[1;32m      9\u001b[0m \u001b[38;5;66;03m# futures = [calculate_Q_for_image(img_id) for img_id in tqdm(img_id_ls)]\u001b[39;00m\n\u001b[1;32m     10\u001b[0m \u001b[38;5;28;01mfor\u001b[39;00m img_id \u001b[38;5;129;01min\u001b[39;00m tqdm(img_id_ls):\n\u001b[0;32m---> 11\u001b[0m     results \u001b[38;5;241m=\u001b[39m \u001b[43mcalculate_Q_for_image\u001b[49m\u001b[43m(\u001b[49m\u001b[43mimg_id\u001b[49m\u001b[43m)\u001b[49m\n\u001b[1;32m     12\u001b[0m     Q_ls\u001b[38;5;241m.\u001b[39mextend(results)\n\u001b[1;32m     13\u001b[0m     \u001b[38;5;28;01mif\u001b[39;00m \u001b[38;5;28mlen\u001b[39m(Q_ls) \u001b[38;5;241m%\u001b[39m \u001b[38;5;241m100\u001b[39m \u001b[38;5;241m==\u001b[39m \u001b[38;5;241m0\u001b[39m:\n",
      "Cell \u001b[0;32mIn[10], line 4\u001b[0m, in \u001b[0;36mcalculate_Q_for_image\u001b[0;34m(img_id)\u001b[0m\n\u001b[1;32m      2\u001b[0m results \u001b[38;5;241m=\u001b[39m []\n\u001b[1;32m      3\u001b[0m \u001b[38;5;28;01mfor\u001b[39;00m c \u001b[38;5;129;01min\u001b[39;00m category:\n\u001b[0;32m----> 4\u001b[0m     Q \u001b[38;5;241m=\u001b[39m \u001b[43mcal_Q\u001b[49m\u001b[43m(\u001b[49m\u001b[43mimg_id\u001b[49m\u001b[43m,\u001b[49m\u001b[43m \u001b[49m\u001b[43mc\u001b[49m\u001b[43m,\u001b[49m\u001b[43m \u001b[49m\u001b[43mdata\u001b[49m\u001b[43m)\u001b[49m\n\u001b[1;32m      5\u001b[0m     results\u001b[38;5;241m.\u001b[39mappend([img_id, c, Q])\n\u001b[1;32m      6\u001b[0m \u001b[38;5;28;01mreturn\u001b[39;00m results\n",
      "Cell \u001b[0;32mIn[4], line 2\u001b[0m, in \u001b[0;36mcal_Q\u001b[0;34m(select_id, category, data)\u001b[0m\n\u001b[1;32m      1\u001b[0m \u001b[38;5;28;01mdef\u001b[39;00m \u001b[38;5;21mcal_Q\u001b[39m(select_id, category, data):\n\u001b[0;32m----> 2\u001b[0m     P_i, N_i, winner_id, loser_id \u001b[38;5;241m=\u001b[39m \u001b[43mcal_P_and_N\u001b[49m\u001b[43m(\u001b[49m\u001b[43mselect_id\u001b[49m\u001b[43m,\u001b[49m\u001b[43m \u001b[49m\u001b[43mcategory\u001b[49m\u001b[43m,\u001b[49m\u001b[43m \u001b[49m\u001b[43mdata\u001b[49m\u001b[43m)\u001b[49m\n\u001b[1;32m      3\u001b[0m     \u001b[38;5;28;01mif\u001b[39;00m (P_i \u001b[38;5;129;01mis\u001b[39;00m \u001b[38;5;28;01mNone\u001b[39;00m) \u001b[38;5;129;01mor\u001b[39;00m (N_i \u001b[38;5;129;01mis\u001b[39;00m \u001b[38;5;28;01mNone\u001b[39;00m):\n\u001b[1;32m      4\u001b[0m         \u001b[38;5;28;01mreturn\u001b[39;00m \u001b[38;5;28;01mNone\u001b[39;00m\n",
      "Cell \u001b[0;32mIn[3], line 2\u001b[0m, in \u001b[0;36mcal_P_and_N\u001b[0;34m(select_id, category, data)\u001b[0m\n\u001b[1;32m      1\u001b[0m \u001b[38;5;28;01mdef\u001b[39;00m \u001b[38;5;21mcal_P_and_N\u001b[39m(select_id, category, data):\n\u001b[0;32m----> 2\u001b[0m     data_test \u001b[38;5;241m=\u001b[39m data[(data[\u001b[38;5;124m'\u001b[39m\u001b[38;5;124mleft_id\u001b[39m\u001b[38;5;124m'\u001b[39m] \u001b[38;5;241m==\u001b[39m select_id) \u001b[38;5;241m|\u001b[39m (\u001b[43mdata\u001b[49m\u001b[43m[\u001b[49m\u001b[38;5;124;43m'\u001b[39;49m\u001b[38;5;124;43mright_id\u001b[39;49m\u001b[38;5;124;43m'\u001b[39;49m\u001b[43m]\u001b[49m\u001b[43m \u001b[49m\u001b[38;5;241;43m==\u001b[39;49m\u001b[43m \u001b[49m\u001b[43mselect_id\u001b[49m)]\n\u001b[1;32m      4\u001b[0m     data_test_group \u001b[38;5;241m=\u001b[39m data_test\u001b[38;5;241m.\u001b[39mgroupby(\u001b[38;5;124m'\u001b[39m\u001b[38;5;124mcategory\u001b[39m\u001b[38;5;124m'\u001b[39m)\n\u001b[1;32m      5\u001b[0m     \u001b[38;5;66;03m# Check if the category exists in the grouped data\u001b[39;00m\n",
      "File \u001b[0;32m/usr/local/lib/python3.8/dist-packages/pandas/core/ops/common.py:72\u001b[0m, in \u001b[0;36m_unpack_zerodim_and_defer.<locals>.new_method\u001b[0;34m(self, other)\u001b[0m\n\u001b[1;32m     68\u001b[0m             \u001b[38;5;28;01mreturn\u001b[39;00m \u001b[38;5;28mNotImplemented\u001b[39m\n\u001b[1;32m     70\u001b[0m other \u001b[38;5;241m=\u001b[39m item_from_zerodim(other)\n\u001b[0;32m---> 72\u001b[0m \u001b[38;5;28;01mreturn\u001b[39;00m \u001b[43mmethod\u001b[49m\u001b[43m(\u001b[49m\u001b[38;5;28;43mself\u001b[39;49m\u001b[43m,\u001b[49m\u001b[43m \u001b[49m\u001b[43mother\u001b[49m\u001b[43m)\u001b[49m\n",
      "File \u001b[0;32m/usr/local/lib/python3.8/dist-packages/pandas/core/arraylike.py:42\u001b[0m, in \u001b[0;36mOpsMixin.__eq__\u001b[0;34m(self, other)\u001b[0m\n\u001b[1;32m     40\u001b[0m \u001b[38;5;129m@unpack_zerodim_and_defer\u001b[39m(\u001b[38;5;124m\"\u001b[39m\u001b[38;5;124m__eq__\u001b[39m\u001b[38;5;124m\"\u001b[39m)\n\u001b[1;32m     41\u001b[0m \u001b[38;5;28;01mdef\u001b[39;00m \u001b[38;5;21m__eq__\u001b[39m(\u001b[38;5;28mself\u001b[39m, other):\n\u001b[0;32m---> 42\u001b[0m     \u001b[38;5;28;01mreturn\u001b[39;00m \u001b[38;5;28;43mself\u001b[39;49m\u001b[38;5;241;43m.\u001b[39;49m\u001b[43m_cmp_method\u001b[49m\u001b[43m(\u001b[49m\u001b[43mother\u001b[49m\u001b[43m,\u001b[49m\u001b[43m \u001b[49m\u001b[43moperator\u001b[49m\u001b[38;5;241;43m.\u001b[39;49m\u001b[43meq\u001b[49m\u001b[43m)\u001b[49m\n",
      "File \u001b[0;32m/usr/local/lib/python3.8/dist-packages/pandas/core/series.py:6243\u001b[0m, in \u001b[0;36mSeries._cmp_method\u001b[0;34m(self, other, op)\u001b[0m\n\u001b[1;32m   6240\u001b[0m rvalues \u001b[38;5;241m=\u001b[39m extract_array(other, extract_numpy\u001b[38;5;241m=\u001b[39m\u001b[38;5;28;01mTrue\u001b[39;00m, extract_range\u001b[38;5;241m=\u001b[39m\u001b[38;5;28;01mTrue\u001b[39;00m)\n\u001b[1;32m   6242\u001b[0m \u001b[38;5;28;01mwith\u001b[39;00m np\u001b[38;5;241m.\u001b[39merrstate(\u001b[38;5;28mall\u001b[39m\u001b[38;5;241m=\u001b[39m\u001b[38;5;124m\"\u001b[39m\u001b[38;5;124mignore\u001b[39m\u001b[38;5;124m\"\u001b[39m):\n\u001b[0;32m-> 6243\u001b[0m     res_values \u001b[38;5;241m=\u001b[39m \u001b[43mops\u001b[49m\u001b[38;5;241;43m.\u001b[39;49m\u001b[43mcomparison_op\u001b[49m\u001b[43m(\u001b[49m\u001b[43mlvalues\u001b[49m\u001b[43m,\u001b[49m\u001b[43m \u001b[49m\u001b[43mrvalues\u001b[49m\u001b[43m,\u001b[49m\u001b[43m \u001b[49m\u001b[43mop\u001b[49m\u001b[43m)\u001b[49m\n\u001b[1;32m   6245\u001b[0m \u001b[38;5;28;01mreturn\u001b[39;00m \u001b[38;5;28mself\u001b[39m\u001b[38;5;241m.\u001b[39m_construct_result(res_values, name\u001b[38;5;241m=\u001b[39mres_name)\n",
      "File \u001b[0;32m/usr/local/lib/python3.8/dist-packages/pandas/core/ops/array_ops.py:287\u001b[0m, in \u001b[0;36mcomparison_op\u001b[0;34m(left, right, op)\u001b[0m\n\u001b[1;32m    284\u001b[0m     \u001b[38;5;28;01mreturn\u001b[39;00m invalid_comparison(lvalues, rvalues, op)\n\u001b[1;32m    286\u001b[0m \u001b[38;5;28;01melif\u001b[39;00m is_object_dtype(lvalues\u001b[38;5;241m.\u001b[39mdtype) \u001b[38;5;129;01mor\u001b[39;00m \u001b[38;5;28misinstance\u001b[39m(rvalues, \u001b[38;5;28mstr\u001b[39m):\n\u001b[0;32m--> 287\u001b[0m     res_values \u001b[38;5;241m=\u001b[39m \u001b[43mcomp_method_OBJECT_ARRAY\u001b[49m\u001b[43m(\u001b[49m\u001b[43mop\u001b[49m\u001b[43m,\u001b[49m\u001b[43m \u001b[49m\u001b[43mlvalues\u001b[49m\u001b[43m,\u001b[49m\u001b[43m \u001b[49m\u001b[43mrvalues\u001b[49m\u001b[43m)\u001b[49m\n\u001b[1;32m    289\u001b[0m \u001b[38;5;28;01melse\u001b[39;00m:\n\u001b[1;32m    290\u001b[0m     res_values \u001b[38;5;241m=\u001b[39m _na_arithmetic_op(lvalues, rvalues, op, is_cmp\u001b[38;5;241m=\u001b[39m\u001b[38;5;28;01mTrue\u001b[39;00m)\n",
      "File \u001b[0;32m/usr/local/lib/python3.8/dist-packages/pandas/core/ops/array_ops.py:75\u001b[0m, in \u001b[0;36mcomp_method_OBJECT_ARRAY\u001b[0;34m(op, x, y)\u001b[0m\n\u001b[1;32m     73\u001b[0m     result \u001b[38;5;241m=\u001b[39m libops\u001b[38;5;241m.\u001b[39mvec_compare(x\u001b[38;5;241m.\u001b[39mravel(), y\u001b[38;5;241m.\u001b[39mravel(), op)\n\u001b[1;32m     74\u001b[0m \u001b[38;5;28;01melse\u001b[39;00m:\n\u001b[0;32m---> 75\u001b[0m     result \u001b[38;5;241m=\u001b[39m \u001b[43mlibops\u001b[49m\u001b[38;5;241;43m.\u001b[39;49m\u001b[43mscalar_compare\u001b[49m\u001b[43m(\u001b[49m\u001b[43mx\u001b[49m\u001b[38;5;241;43m.\u001b[39;49m\u001b[43mravel\u001b[49m\u001b[43m(\u001b[49m\u001b[43m)\u001b[49m\u001b[43m,\u001b[49m\u001b[43m \u001b[49m\u001b[43my\u001b[49m\u001b[43m,\u001b[49m\u001b[43m \u001b[49m\u001b[43mop\u001b[49m\u001b[43m)\u001b[49m\n\u001b[1;32m     76\u001b[0m \u001b[38;5;28;01mreturn\u001b[39;00m result\u001b[38;5;241m.\u001b[39mreshape(x\u001b[38;5;241m.\u001b[39mshape)\n",
      "\u001b[0;31mKeyboardInterrupt\u001b[0m: "
     ]
    }
   ],
   "source": [
    "\n",
    "def calculate_Q_for_image(img_id):\n",
    "    results = []\n",
    "    for c in category:\n",
    "        Q = cal_Q(img_id, c, data)\n",
    "        results.append([img_id, c, Q])\n",
    "    return results\n",
    "\n",
    "Q_ls = []\n",
    "# futures = [calculate_Q_for_image(img_id) for img_id in tqdm(img_id_ls)]\n",
    "for img_id in tqdm(img_id_ls):\n",
    "    results = calculate_Q_for_image(img_id)\n",
    "    Q_ls.extend(results)\n",
    "    if len(Q_ls) % 100 == 0:\n",
    "        Q_df = pd.DataFrame(Q_ls, columns=['Image_ID', 'Category', 'Q_Value'])\n",
    "        Q_df.to_csv(\"/data_nas/cehou/LLM_safety/image_perception.csv\", index=False)\n",
    "        print(\"Save to csv\")"
   ]
  }
 ],
 "metadata": {
  "kernelspec": {
   "display_name": "Python 3",
   "language": "python",
   "name": "python3"
  },
  "language_info": {
   "codemirror_mode": {
    "name": "ipython",
    "version": 3
   },
   "file_extension": ".py",
   "mimetype": "text/x-python",
   "name": "python",
   "nbconvert_exporter": "python",
   "pygments_lexer": "ipython3",
   "version": "3.8.10"
  }
 },
 "nbformat": 4,
 "nbformat_minor": 2
}
