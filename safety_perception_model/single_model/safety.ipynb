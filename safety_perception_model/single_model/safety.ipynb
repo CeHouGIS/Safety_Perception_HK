{
 "cells": [
  {
   "cell_type": "code",
   "execution_count": 96,
   "metadata": {},
   "outputs": [],
   "source": [
    "import pandas as pd\n",
    "import os\n",
    "import warnings\n",
    "import numpy as np\n",
    "warnings.filterwarnings(\"ignore\")"
   ]
  },
  {
   "cell_type": "code",
   "execution_count": 74,
   "metadata": {},
   "outputs": [],
   "source": [
    "data_path = \"/data_nas/cehou/LLM_safety/PlacePulse2.0/metadata/final_data.csv\"\n",
    "img_path = \"/data_nas/cehou/LLM_safety/PlacePulse2.0/photo_dataset/final_photo_dataset\"\n",
    "data = pd.read_csv(data_path)"
   ]
  },
  {
   "cell_type": "code",
   "execution_count": null,
   "metadata": {},
   "outputs": [],
   "source": [
    "import numpy as np\n",
    "\n",
    "# Define the function to calculate P_i and N_i for each image\n",
    "def calculate_P_N(pi, ni, ei):\n",
    "    \"\"\"\n",
    "    Calculate the positive (P) and negative (N) rates for image i\n",
    "    :param pi: Number of times image i was selected\n",
    "    :param ni: Number of times image i was not selected\n",
    "    :param ei: Number of times image i was equal to another image in comparison\n",
    "    :return: P_i, N_i\n",
    "    \"\"\"\n",
    "    P_i = pi / (pi + ei + ni)\n",
    "    N_i = ni / (pi + ei + ni)\n",
    "    return P_i, N_i\n",
    "\n",
    "# Define the function to calculate Q_i for each image\n",
    "def calculate_Q_i(pi, ni, ei, p_k, n_k, nk1, nk2):\n",
    "    \"\"\"\n",
    "    Calculate the Q-score for image i\n",
    "    :param pi: Number of times image i was selected\n",
    "    :param ni: Number of times image i was not selected\n",
    "    :param ei: Number of times image i was equal to another image in comparison\n",
    "    :param p_k: Sum of P_k1 for images selected in comparisons (array or list)\n",
    "    :param n_k: Sum of N_k2 for images not selected in comparisons (array or list)\n",
    "    :param nk1: Number of k1 comparisons (for selected)\n",
    "    :param nk2: Number of k2 comparisons (for not selected)\n",
    "    :return: Q_i\n",
    "    \"\"\"\n",
    "    P_i, N_i = calculate_P_N(pi, ni, ei)\n",
    "    Q_i = (10 / 3) * (P_i + (1 / pi) * np.sum(p_k) - (1 / ni) * np.sum(n_k) + 1)\n",
    "    return Q_i\n",
    "\n",
    "# Example usage\n",
    "# Assume some example data for pi, ni, ei, p_k, n_k, nk1, nk2\n",
    "pi = 5   # Example: selected 5 times\n",
    "ni = 3   # Example: not selected 3 times\n",
    "ei = 2   # Example: equal in 2 comparisons\n",
    "p_k = [0.4, 0.5, 0.6]  # Example: positive rates of other images\n",
    "n_k = [0.3, 0.2, 0.4]  # Example: negative rates of other images\n",
    "nk1 = len(p_k)\n",
    "nk2 = len(n_k)\n",
    "\n",
    "# Calculate Q_i for this example\n",
    "Q_i = calculate_Q_i(pi, ni, ei, p_k, n_k, nk1, nk2)\n",
    "Q_i\n"
   ]
  },
  {
   "cell_type": "code",
   "execution_count": 134,
   "metadata": {},
   "outputs": [],
   "source": [
    "\n",
    "def cal_win_rate(select_id, category):\n",
    "    data_test = data[(data['left_id'] == select_id) | (data['right_id'] == select_id)]\n",
    "\n",
    "    data_test_group = data_test.groupby('category')\n",
    "    test_group = data_test_group.get_group(category)\n",
    "\n",
    "    for i,line in test_group.iterrows():\n",
    "        if line['winner'] == 'left':\n",
    "            test_group.loc[i, \"winner_id\"] = line[\"left_id\"]\n",
    "            test_group.loc[i, \"loser_id\"] = line[\"right_id\"]\n",
    "        elif line['winner'] == 'right':\n",
    "            test_group.loc[i, \"winner_id\"] = line[\"right_id\"]\n",
    "            test_group.loc[i, \"loser_id\"] = line[\"left_id\"]\n",
    "        else:\n",
    "            test_group.loc[i, \"winner_id\"] = \"equal\"\n",
    "            test_group.loc[i, \"loser_id\"] = \"equal\"\n",
    "\n",
    "    winner_id = test_group['winner_id'].tolist()\n",
    "    loser_id = test_group['loser_id'].tolist()\n",
    "\n",
    "    p_i = len(test_group[test_group['winner_id'] == select_id]) \n",
    "    e_i = len(test_group[test_group['winner_id'] == \"equal\"]) \n",
    "    n_i = len(test_group) - p_i - e_i\n",
    "\n",
    "    P_i = p_i / (p_i + e_i + n_i)\n",
    "    N_i = n_i / (p_i + e_i + n_i)\n",
    "    return p_i, e_i, n_i, P_i, N_i, winner_id, loser_id\n"
   ]
  },
  {
   "cell_type": "code",
   "execution_count": 135,
   "metadata": {},
   "outputs": [],
   "source": [
    "img_id_ls = [i.split('.')[0] for i in os.listdir(img_path)]\n",
    "category = data['category'].value_counts().index.tolist()\n"
   ]
  },
  {
   "cell_type": "code",
   "execution_count": 120,
   "metadata": {},
   "outputs": [
    {
     "data": {
      "text/plain": [
       "['safety', 'lively', 'beautiful', 'wealthy', 'depressing', 'boring']"
      ]
     },
     "execution_count": 120,
     "metadata": {},
     "output_type": "execute_result"
    }
   ],
   "source": [
    "category"
   ]
  },
  {
   "cell_type": "code",
   "execution_count": 136,
   "metadata": {},
   "outputs": [],
   "source": [
    "select_id = img_id_ls[1]\n",
    "p_i, e_i, n_i, P_i, N_i, winner_id, loser_id = cal_win_rate(select_id, category[2])"
   ]
  },
  {
   "cell_type": "code",
   "execution_count": 117,
   "metadata": {},
   "outputs": [],
   "source": []
  },
  {
   "cell_type": "code",
   "execution_count": 121,
   "metadata": {},
   "outputs": [
    {
     "data": {
      "text/html": [
       "<div>\n",
       "<style scoped>\n",
       "    .dataframe tbody tr th:only-of-type {\n",
       "        vertical-align: middle;\n",
       "    }\n",
       "\n",
       "    .dataframe tbody tr th {\n",
       "        vertical-align: top;\n",
       "    }\n",
       "\n",
       "    .dataframe thead th {\n",
       "        text-align: right;\n",
       "    }\n",
       "</style>\n",
       "<table border=\"1\" class=\"dataframe\">\n",
       "  <thead>\n",
       "    <tr style=\"text-align: right;\">\n",
       "      <th></th>\n",
       "      <th>left_id</th>\n",
       "      <th>right_id</th>\n",
       "      <th>winner</th>\n",
       "      <th>left_lat</th>\n",
       "      <th>left_long</th>\n",
       "      <th>right_lat</th>\n",
       "      <th>right_long</th>\n",
       "      <th>category</th>\n",
       "    </tr>\n",
       "  </thead>\n",
       "  <tbody>\n",
       "    <tr>\n",
       "      <th>333099</th>\n",
       "      <td>50f42c1afdc9f065f0001880</td>\n",
       "      <td>514140defdc9f0492600611f</td>\n",
       "      <td>right</td>\n",
       "      <td>52.336193</td>\n",
       "      <td>20.97751</td>\n",
       "      <td>-37.795043</td>\n",
       "      <td>145.002829</td>\n",
       "      <td>lively</td>\n",
       "    </tr>\n",
       "  </tbody>\n",
       "</table>\n",
       "</div>"
      ],
      "text/plain": [
       "                         left_id                  right_id winner   left_lat  \\\n",
       "333099  50f42c1afdc9f065f0001880  514140defdc9f0492600611f  right  52.336193   \n",
       "\n",
       "        left_long  right_lat  right_long category  \n",
       "333099   20.97751 -37.795043  145.002829   lively  "
      ]
     },
     "execution_count": 121,
     "metadata": {},
     "output_type": "execute_result"
    }
   ],
   "source": [
    "a = data[(data['left_id'] == all_other_id[0]) | (data['right_id'] == all_other_id[0])]\n",
    "a[a['category'] == category[1]]"
   ]
  },
  {
   "cell_type": "code",
   "execution_count": 123,
   "metadata": {},
   "outputs": [
    {
     "data": {
      "text/plain": [
       "(1, 0, 0, 1.0, 0.0)"
      ]
     },
     "execution_count": 123,
     "metadata": {},
     "output_type": "execute_result"
    }
   ],
   "source": [
    "p_i, e_i, n_i, P_i, N_i = cal_win_rate(all_other_id[0], category[1])\n"
   ]
  },
  {
   "cell_type": "code",
   "execution_count": null,
   "metadata": {},
   "outputs": [],
   "source": [
    "Q = 10 / 3 * (P_i + (1 / p_i) * np.sum(p_k) - (1 / n_i) * np.sum(n_k) + 1) "
   ]
  }
 ],
 "metadata": {
  "kernelspec": {
   "display_name": "Python 3",
   "language": "python",
   "name": "python3"
  },
  "language_info": {
   "codemirror_mode": {
    "name": "ipython",
    "version": 3
   },
   "file_extension": ".py",
   "mimetype": "text/x-python",
   "name": "python",
   "nbconvert_exporter": "python",
   "pygments_lexer": "ipython3",
   "version": "3.8.10"
  }
 },
 "nbformat": 4,
 "nbformat_minor": 2
}
