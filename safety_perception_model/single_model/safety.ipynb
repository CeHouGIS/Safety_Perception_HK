{
 "cells": [
  {
   "cell_type": "code",
   "execution_count": 1,
   "metadata": {},
   "outputs": [],
   "source": [
    "import pandas as pd"
   ]
  },
  {
   "cell_type": "code",
   "execution_count": 2,
   "metadata": {},
   "outputs": [],
   "source": [
    "data_path = \"/data_nas/cehou/LLM_safety/PlacePulse2.0/metadata/final_data.csv\"\n",
    "data = pd.read_csv(data_path)"
   ]
  },
  {
   "cell_type": "code",
   "execution_count": null,
   "metadata": {},
   "outputs": [],
   "source": [
    "import numpy as np\n",
    "\n",
    "# Define the function to calculate P_i and N_i for each image\n",
    "def calculate_P_N(pi, ni, ei):\n",
    "    \"\"\"\n",
    "    Calculate the positive (P) and negative (N) rates for image i\n",
    "    :param pi: Number of times image i was selected\n",
    "    :param ni: Number of times image i was not selected\n",
    "    :param ei: Number of times image i was equal to another image in comparison\n",
    "    :return: P_i, N_i\n",
    "    \"\"\"\n",
    "    P_i = pi / (pi + ei + ni)\n",
    "    N_i = ni / (pi + ei + ni)\n",
    "    return P_i, N_i\n",
    "\n",
    "# Define the function to calculate Q_i for each image\n",
    "def calculate_Q_i(pi, ni, ei, p_k, n_k, nk1, nk2):\n",
    "    \"\"\"\n",
    "    Calculate the Q-score for image i\n",
    "    :param pi: Number of times image i was selected\n",
    "    :param ni: Number of times image i was not selected\n",
    "    :param ei: Number of times image i was equal to another image in comparison\n",
    "    :param p_k: Sum of P_k1 for images selected in comparisons (array or list)\n",
    "    :param n_k: Sum of N_k2 for images not selected in comparisons (array or list)\n",
    "    :param nk1: Number of k1 comparisons (for selected)\n",
    "    :param nk2: Number of k2 comparisons (for not selected)\n",
    "    :return: Q_i\n",
    "    \"\"\"\n",
    "    P_i, N_i = calculate_P_N(pi, ni, ei)\n",
    "    Q_i = (10 / 3) * (P_i + (1 / pi) * np.sum(p_k) - (1 / ni) * np.sum(n_k) + 1)\n",
    "    return Q_i\n",
    "\n",
    "# Example usage\n",
    "# Assume some example data for pi, ni, ei, p_k, n_k, nk1, nk2\n",
    "pi = 5   # Example: selected 5 times\n",
    "ni = 3   # Example: not selected 3 times\n",
    "ei = 2   # Example: equal in 2 comparisons\n",
    "p_k = [0.4, 0.5, 0.6]  # Example: positive rates of other images\n",
    "n_k = [0.3, 0.2, 0.4]  # Example: negative rates of other images\n",
    "nk1 = len(p_k)\n",
    "nk2 = len(n_k)\n",
    "\n",
    "# Calculate Q_i for this example\n",
    "Q_i = calculate_Q_i(pi, ni, ei, p_k, n_k, nk1, nk2)\n",
    "Q_i\n"
   ]
  },
  {
   "cell_type": "code",
   "execution_count": 42,
   "metadata": {},
   "outputs": [],
   "source": [
    "select_id = \"51413b2ffdc9f049260058ca\"\n",
    "data_test = data[(data['left_id'] == select_id) | (data['right_id'] == select_id)]\n",
    "\n",
    "data_test_group = data_test.groupby('category')\n",
    "test_group = data_test_group.get_group('safety')"
   ]
  },
  {
   "cell_type": "code",
   "execution_count": 44,
   "metadata": {},
   "outputs": [],
   "source": [
    "for i,line in test_group.iterrows():\n",
    "    if line['winner'] == 'left':\n",
    "        test_group.loc[i, \"winner_id\"] = line[\"left_id\"]\n",
    "    elif line['winner'] == 'right':\n",
    "        test_group.loc[i, \"winner_id\"] = line[\"right_id\"]\n",
    "    else:\n",
    "        test_group.loc[i, \"winner_id\"] = \"equal\"\n",
    "\n",
    "pi = len(test_group[test_group['winner_id'] == select_id])\n",
    "ei = len(test_group[test_group['winner_id'] == \"equal\"])\n",
    "ni = len(test_group) - pi - ei"
   ]
  },
  {
   "cell_type": "code",
   "execution_count": 49,
   "metadata": {},
   "outputs": [
    {
     "name": "stdout",
     "output_type": "stream",
     "text": [
      "0 3 1\n"
     ]
    }
   ],
   "source": []
  }
 ],
 "metadata": {
  "kernelspec": {
   "display_name": "Python 3",
   "language": "python",
   "name": "python3"
  },
  "language_info": {
   "codemirror_mode": {
    "name": "ipython",
    "version": 3
   },
   "file_extension": ".py",
   "mimetype": "text/x-python",
   "name": "python",
   "nbconvert_exporter": "python",
   "pygments_lexer": "ipython3",
   "version": "3.8.10"
  }
 },
 "nbformat": 4,
 "nbformat_minor": 2
}
