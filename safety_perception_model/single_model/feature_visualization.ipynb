{
 "cells": [
  {
   "cell_type": "markdown",
   "metadata": {},
   "source": [
    "# Features visualization"
   ]
  },
  {
   "cell_type": "code",
   "execution_count": 5,
   "metadata": {},
   "outputs": [],
   "source": [
    "import torch\n",
    "import pandas as pd\n",
    "import os\n",
    "import warnings\n",
    "import numpy as np\n",
    "from tqdm import tqdm\n",
    "warnings.filterwarnings(\"ignore\")\n",
    "from models import TransformerRegressionModel\n",
    "import sys\n",
    "sys.path.append(\"/code/LLM-crime\")\n",
    "from custom_clip_train import CLIPModel, CLIPDataset, build_loaders, make_prediction"
   ]
  },
  {
   "cell_type": "code",
   "execution_count": 6,
   "metadata": {},
   "outputs": [],
   "source": [
    "example_data_path = pd.read_pickle(\"/data_nas/cehou/LLM_safety/dataset_30_female_HongKong_murder_746.pkl\")\n",
    "text_data = [example_data_path[i]['text_description'] for i in range(len(example_data_path))]"
   ]
  },
  {
   "cell_type": "code",
   "execution_count": 7,
   "metadata": {},
   "outputs": [],
   "source": [
    "answer = [i.split(\"<\\\\s> [INST]\")[0] for i in text_data[0].split(\" [/INST] \")][1:]\n",
    "question = [text_data[0].split(\" [/INST] \")[0][7:]] + [i.split(\"<\\\\s> [INST]\")[1] for i in text_data[0].split(\" [/INST] \")[1:-1]]"
   ]
  },
  {
   "cell_type": "code",
   "execution_count": 10,
   "metadata": {},
   "outputs": [],
   "source": [
    "from sklearn.feature_extraction.text import TfidfVectorizer\n",
    "from sklearn.metrics.pairwise import cosine_similarity\n",
    "\n",
    "# 定义两个字符串\n",
    "\n",
    "def cal_text_similarity(str_list):\n",
    "    # 将文本转换为tf-idf特征\n",
    "    vectorizer = TfidfVectorizer()\n",
    "    tfidf = vectorizer.fit_transform(str_list)\n",
    "    # 计算两个字符串之间的余弦相似度\n",
    "    similarity = cosine_similarity(tfidf)\n",
    "    return similarity\n",
    "\n",
    "sim_mat_a = cal_text_similarity(answer)\n",
    "sim_mat_q = cal_text_similarity(question)\n"
   ]
  },
  {
   "cell_type": "code",
   "execution_count": null,
   "metadata": {},
   "outputs": [],
   "source": [
    "import seaborn as sns\n",
    "import matplotlib.pyplot as plt\n",
    "fig, ax = plt.subplots(1,2, figsize=(9,4))\n",
    "\n",
    "sns.heatmap(sim_mat_a, annot=True,vmin=0,vmax=1, ax=ax[0])\n",
    "sns.heatmap(sim_mat_q, annot=True,vmin=0,vmax=1, ax=ax[1])"
   ]
  },
  {
   "cell_type": "code",
   "execution_count": 20,
   "metadata": {},
   "outputs": [],
   "source": [
    "# 获取对角线以上的矩阵部分\n",
    "upper_triangle_sim_mat_q = np.triu(sim_mat_q, k=1)\n",
    "upper_triangle_sim_mat_a = np.triu(sim_mat_a, k=1)"
   ]
  },
  {
   "cell_type": "code",
   "execution_count": 25,
   "metadata": {},
   "outputs": [],
   "source": [
    "upper_triangle_sim_mat_a_list = upper_triangle_sim_mat_a[np.triu_indices(upper_triangle_sim_mat_a.shape[0], k=1)].tolist()\n",
    "upper_triangle_sim_mat_q_list = upper_triangle_sim_mat_q[np.triu_indices(upper_triangle_sim_mat_q.shape[0], k=1)].tolist()"
   ]
  },
  {
   "cell_type": "code",
   "execution_count": null,
   "metadata": {},
   "outputs": [],
   "source": [
    "plt.scatter(upper_triangle_sim_mat_q_list, upper_triangle_sim_mat_a_list)"
   ]
  },
  {
   "cell_type": "code",
   "execution_count": 170,
   "metadata": {},
   "outputs": [],
   "source": [
    "cfg = 'baseline'\n",
    "img_feature = np.load(f\"/data1/cehou_data/LLM_safety/middle_variables/{cfg}/img_feature.npy\")\n",
    "text_feature = np.load(f\"/data1/cehou_data/LLM_safety/middle_variables/{cfg}/text_feature.npy\")\n",
    "predictions = np.load(f\"/data1/cehou_data/LLM_safety/middle_variables/{cfg}/predictions.npy\")\n"
   ]
  },
  {
   "cell_type": "code",
   "execution_count": 171,
   "metadata": {},
   "outputs": [],
   "source": [
    "from sklearn.metrics.pairwise import cosine_similarity\n",
    "\n",
    "# 计算文本特征之间的余弦相似性\n",
    "text_feature_similarity = cosine_similarity(text_feature)\n",
    "img_feature_similarity = cosine_similarity(img_feature)"
   ]
  },
  {
   "cell_type": "code",
   "execution_count": null,
   "metadata": {},
   "outputs": [],
   "source": [
    "import matplotlib.pyplot as plt\n",
    "import seaborn as sns\n",
    "sns.heatmap(text_feature[:10,:10])"
   ]
  },
  {
   "cell_type": "markdown",
   "metadata": {},
   "source": [
    "## 计算文本间相似性\n"
   ]
  },
  {
   "cell_type": "code",
   "execution_count": 173,
   "metadata": {},
   "outputs": [],
   "source": [
    "if cfg == 'baseline':\n",
    "    data = pd.read_pickle(f\"/data1/cehou_data/LLM_safety/dataset_baseline_746.pkl\")\n",
    "else:\n",
    "    data = pd.read_pickle(f\"/data1/cehou_data/LLM_safety/dataset_30_{cfg}_HongKong_murder_746.pkl\")\n",
    "text_describe_list = [data[i]['text_description'] for i in range(len(data))]"
   ]
  },
  {
   "cell_type": "code",
   "execution_count": 174,
   "metadata": {},
   "outputs": [],
   "source": [
    "from sklearn.feature_extraction.text import TfidfVectorizer\n",
    "from sklearn.metrics.pairwise import cosine_similarity\n",
    "\n",
    "# 定义两个字符串\n",
    "\n",
    "def cal_text_similarity(str_list):\n",
    "    # 将文本转换为tf-idf特征\n",
    "    vectorizer = TfidfVectorizer()\n",
    "    tfidf = vectorizer.fit_transform(str_list)\n",
    "    # 计算两个字符串之间的余弦相似度\n",
    "    similarity = cosine_similarity(tfidf)\n",
    "    return similarity\n",
    "\n",
    "text_similarity = cal_text_similarity(text_describe_list)"
   ]
  },
  {
   "cell_type": "code",
   "execution_count": 175,
   "metadata": {},
   "outputs": [],
   "source": [
    "# 获取对角线以上上半部分的元素及其位置\n",
    "upper_triangle_indices = np.triu_indices(text_similarity.shape[0], k=1)\n",
    "upper_triangle_values = text_similarity[upper_triangle_indices]\n",
    "\n",
    "# 记录位置\n",
    "positions = list(zip(upper_triangle_indices[0], upper_triangle_indices[1]))"
   ]
  },
  {
   "cell_type": "code",
   "execution_count": 176,
   "metadata": {},
   "outputs": [],
   "source": [
    "from PIL import Image\n",
    "def get_img(dataset, idx):\n",
    "    for i,path in enumerate(dataset[idx][\"GSV_path\"]):\n",
    "        if i == 0:\n",
    "            GSV_img = np.array(Image.open(path))\n",
    "        else:\n",
    "            GSV_img = np.concatenate((GSV_img, np.array(Image.open(path))), axis=1)\n",
    "    return GSV_img\n",
    "\n",
    "def cal_img_similarity(dataset, img1_idx, img2_idx):\n",
    "    img1 = get_img(dataset, img1_idx)\n",
    "    img2 = get_img(dataset, img2_idx)\n",
    "    img1_flat = img1.flatten().reshape(1, -1)\n",
    "    img2_flat = img2.flatten().reshape(1, -1)\n",
    "    img_similarity = cosine_similarity(img1_flat, img2_flat)\n",
    "    return img_similarity[0][0]"
   ]
  },
  {
   "cell_type": "code",
   "execution_count": 177,
   "metadata": {},
   "outputs": [],
   "source": [
    "evaluation_df = pd.DataFrame(columns=['img1_idx', 'img2_idx', 'config', 'text_similarity', 'img_similarity','text_feature_similarity','img_feature_similarity'])\n",
    "for i in range(25):\n",
    "    for j in range(25):\n",
    "        if i < j:\n",
    "            img_similarity = cal_img_similarity(data, i, j)\n",
    "            evaluation_df = evaluation_df.append({'img1_idx': i, 'img2_idx': j, 'config':cfg, 'text_similarity': text_similarity[i][j], 'img_similarity': img_similarity, 'text_feature_similarity': text_feature_similarity[i][j], 'img_feature_similarity': img_feature_similarity[i][j]}, ignore_index=True)            \n",
    "            \n",
    "evaluation_df.to_csv(f\"/data1/cehou_data/LLM_safety/middle_variables/{cfg}/evaluation_df.csv\", index=False)"
   ]
  },
  {
   "cell_type": "code",
   "execution_count": null,
   "metadata": {},
   "outputs": [],
   "source": [
    "\n",
    "# 计算相关系数\n",
    "correlation = np.corrcoef(evaluation_df['text_similarity'], evaluation_df['img_similarity'])[0, 1]\n",
    "\n",
    "sns.regplot(x='text_similarity', y='img_similarity', data=evaluation_df)\n",
    "# 标记相关系数\n",
    "plt.text(0.95, 0.95, f'Correlation: {correlation:.2f}', horizontalalignment='right', verticalalignment='top', transform=plt.gca().transAxes)"
   ]
  },
  {
   "cell_type": "code",
   "execution_count": null,
   "metadata": {},
   "outputs": [],
   "source": [
    "correlation = np.corrcoef(evaluation_df['text_feature_similarity'], evaluation_df['img_feature_similarity'])[0, 1]\n",
    "\n",
    "sns.regplot(x='text_feature_similarity', y='img_feature_similarity', data=evaluation_df)\n",
    "# 标记相关系数\n",
    "plt.text(0.95, 0.95, f'Correlation: {correlation:.2f}', horizontalalignment='right', verticalalignment='top', transform=plt.gca().transAxes)"
   ]
  },
  {
   "cell_type": "code",
   "execution_count": null,
   "metadata": {},
   "outputs": [],
   "source": [
    "from sklearn.metrics.pairwise import cosine_similarity\n",
    "\n",
    "# 计算文本特征之间的余弦相似性\n",
    "text_similarity_matrix = cosine_similarity(text_feature)\n",
    "\n",
    "# 打印相似性矩阵\n",
    "print(text_similarity_matrix)\n",
    "sns.heatmap(text_similarity_matrix)"
   ]
  },
  {
   "cell_type": "code",
   "execution_count": null,
   "metadata": {},
   "outputs": [],
   "source": [
    "for i,cfg in enumerate(['male','female','baseline']):\n",
    "    data = pd.read_csv(f\"/data1/cehou_data/LLM_safety/middle_variables/{cfg}/evaluation_df.csv\")\n",
    "    if i == 0:\n",
    "        all_data = data\n",
    "    else:\n",
    "        all_data = pd.concat([all_data, data], axis=0, ignore_index=True)"
   ]
  },
  {
   "cell_type": "code",
   "execution_count": null,
   "metadata": {},
   "outputs": [],
   "source": [
    "sns.scatterplot(\n",
    "   x=\"text_similarity\",\n",
    "   y=\"img_similarity\",\n",
    "   data=all_data,\n",
    "   hue='config',\n",
    ")"
   ]
  }
 ],
 "metadata": {
  "kernelspec": {
   "display_name": "Python 3",
   "language": "python",
   "name": "python3"
  },
  "language_info": {
   "codemirror_mode": {
    "name": "ipython",
    "version": 3
   },
   "file_extension": ".py",
   "mimetype": "text/x-python",
   "name": "python",
   "nbconvert_exporter": "python",
   "pygments_lexer": "ipython3",
   "version": "3.8.10"
  }
 },
 "nbformat": 4,
 "nbformat_minor": 2
}
